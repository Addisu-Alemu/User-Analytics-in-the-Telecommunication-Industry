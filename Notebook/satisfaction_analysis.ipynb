{
 "cells": [
  {
   "cell_type": "code",
   "execution_count": 7,
   "metadata": {},
   "outputs": [],
   "source": [
    "import pandas as pd\n",
    "from sklearn.cluster import KMeans\n",
    "from sklearn.preprocessing import StandardScaler\n",
    "import numpy as np"
   ]
  },
  {
   "cell_type": "code",
   "execution_count": 8,
   "metadata": {},
   "outputs": [],
   "source": [
    "# Load the dataset into a pandas DataFrame\n",
    "df = pd.read_csv('../data/cleaned_data.csv', parse_dates=['Start', 'End'])"
   ]
  },
  {
   "cell_type": "code",
   "execution_count": 9,
   "metadata": {},
   "outputs": [
    {
     "name": "stdout",
     "output_type": "stream",
     "text": [
      "        MSISDN/Number  engagement_score\n",
      "0        3.365922e+10          2.968073\n",
      "1        3.366565e+10          1.883758\n",
      "2        3.366447e+10          4.913894\n",
      "3        3.360329e+10          3.949389\n",
      "4        3.365922e+10          3.757785\n",
      "...               ...               ...\n",
      "146877   3.366865e+10          5.189102\n",
      "146878   3.365069e+10          3.634666\n",
      "146879   3.366345e+10          3.631952\n",
      "146880   3.362189e+10          3.550910\n",
      "146881   3.361962e+10          3.566010\n",
      "\n",
      "[146882 rows x 2 columns]\n"
     ]
    }
   ],
   "source": [
    "\n",
    "\n",
    "\n",
    "\n",
    "# Select the relevant experience metrics for clustering\n",
    "experience_metrics = df[['Avg RTT DL (ms)', 'Avg RTT UL (ms)', 'Avg Bearer TP DL (kbps)', 'Avg Bearer TP UL (kbps)', 'TCP DL Retrans. Vol (Bytes)', 'TCP UL Retrans. Vol (Bytes)']]\n",
    "\n",
    "# Standardize the data\n",
    "scaler = StandardScaler()\n",
    "scaled_experience_metrics = scaler.fit_transform(experience_metrics)\n",
    "\n",
    "# Perform k-means clustering (k=3)\n",
    "kmeans = KMeans(n_clusters=3, n_init=10,random_state=42)\n",
    "df['cluster'] = kmeans.fit_predict(scaled_experience_metrics)\n",
    "\n",
    "\n",
    "\n",
    "\n",
    "# Calculate the centroid of each cluster\n",
    "cluster_centroids = kmeans.cluster_centers_\n",
    "\n",
    "# Calculate the Euclidean distance between each user's data point and the centroid of the less engaged cluster\n",
    "engagement_score = []\n",
    "for index, row in df.iterrows():\n",
    "    user_data = scaled_experience_metrics[index]\n",
    "    less_engaged_cluster = np.argmin(np.linalg.norm(cluster_centroids, axis=1))\n",
    "    distance = np.linalg.norm(user_data - cluster_centroids[less_engaged_cluster])\n",
    "    engagement_score.append(distance)\n",
    "\n",
    "# Assign the engagement scores to the DataFrame\n",
    "df['engagement_score'] = engagement_score\n",
    "\n",
    "\n",
    "# Display the DataFrame with the assigned engagement scores\n",
    "print(df[['MSISDN/Number', 'engagement_score']])\n"
   ]
  },
  {
   "cell_type": "markdown",
   "metadata": {},
   "source": [
    "## Euclidean distance between each user's data point and the centroid of the worst experience's cluster"
   ]
  },
  {
   "cell_type": "code",
   "execution_count": 10,
   "metadata": {},
   "outputs": [
    {
     "name": "stdout",
     "output_type": "stream",
     "text": [
      "        MSISDN/Number  experience_score\n",
      "0        3.365922e+10          2.553181\n",
      "1        3.366565e+10          3.444565\n",
      "2        3.366447e+10          3.055363\n",
      "3        3.360329e+10          4.183173\n",
      "4        3.365922e+10          2.987121\n",
      "...               ...               ...\n",
      "146877   3.366865e+10          3.192933\n",
      "146878   3.365069e+10          4.399533\n",
      "146879   3.366345e+10          4.369239\n",
      "146880   3.362189e+10          4.083725\n",
      "146881   3.361962e+10          4.169611\n",
      "\n",
      "[146882 rows x 2 columns]\n"
     ]
    }
   ],
   "source": [
    "# Calculate the Euclidean distance between each user's data point and the centroid of the worst experience's cluster\n",
    "experience_score = []\n",
    "for index, row in df.iterrows():\n",
    "    user_data = scaled_experience_metrics[index]\n",
    "    worst_experience_cluster = np.argmax(np.linalg.norm(cluster_centroids, axis=1))\n",
    "    distance = np.linalg.norm(user_data - cluster_centroids[worst_experience_cluster])\n",
    "    experience_score.append(distance)\n",
    "\n",
    "# Assign the experience scores to the DataFrame\n",
    "df['experience_score'] = experience_score\n",
    "\n",
    "# Display the DataFrame with the assigned experience scores\n",
    "print(df[['MSISDN/Number', 'experience_score']])"
   ]
  },
  {
   "cell_type": "code",
   "execution_count": 11,
   "metadata": {},
   "outputs": [
    {
     "name": "stdout",
     "output_type": "stream",
     "text": [
      "      MSISDN/Number  satisfaction_score\n",
      "644    3.366960e+10            4.739044\n",
      "717    3.365099e+10            4.739044\n",
      "1372   3.373167e+10            4.739044\n",
      "1657   3.366178e+10            4.739044\n",
      "1784   3.366459e+10            4.739044\n",
      "1834   3.373167e+10            4.739044\n",
      "2683   3.373167e+10            4.739044\n",
      "3056   3.365812e+10            4.739044\n",
      "3524   3.366539e+10            4.739044\n",
      "3563   3.366295e+10            4.739044\n"
     ]
    }
   ],
   "source": [
    "# Calculate the satisfaction score as the average of engagement and experience scores\n",
    "df['satisfaction_score'] = (df['engagement_score'] + df['experience_score']) / 2\n",
    "\n",
    "# Report the top 10 satisfied customers based on the satisfaction scores\n",
    "top_satisfied_customers = df.nlargest(10, 'satisfaction_score')[['MSISDN/Number', 'satisfaction_score']]\n",
    "\n",
    "# Display the top 10 satisfied customers\n",
    "print(top_satisfied_customers)"
   ]
  },
  {
   "cell_type": "code",
   "execution_count": 12,
   "metadata": {},
   "outputs": [
    {
     "name": "stdout",
     "output_type": "stream",
     "text": [
      "Mean Squared Error: 5.275274018132137e-31\n",
      "R-squared: 1.0\n"
     ]
    }
   ],
   "source": [
    "\n",
    "\n",
    "# Select features and target\n",
    "X = df[['engagement_score', 'experience_score']]\n",
    "y = df['satisfaction_score']\n",
    "\n",
    "# Split the data into training and testing sets\n",
    "X_train, X_test, y_train, y_test = train_test_split(X, y, test_size=0.2, random_state=42)\n",
    "\n",
    "# Standardize the features\n",
    "scaler = StandardScaler()\n",
    "X_train = scaler.fit_transform(X_train)\n",
    "X_test = scaler.transform(X_test)\n",
    "\n",
    "# Build and train the regression model\n",
    "regression_model = LinearRegression()\n",
    "regression_model.fit(X_train, y_train)\n",
    "\n",
    "# Make predictions\n",
    "y_pred = regression_model.predict(X_test)\n",
    "\n",
    "# Evaluate the model\n",
    "mse = mean_squared_error(y_test, y_pred)\n",
    "r2 = r2_score(y_test, y_pred)\n",
    "print(f\"Mean Squared Error: {mse}\")\n",
    "print(f\"R-squared: {r2}\")\n"
   ]
  },
  {
   "cell_type": "code",
   "execution_count": 14,
   "metadata": {},
   "outputs": [
    {
     "name": "stdout",
     "output_type": "stream",
     "text": [
      "        engagement_score  experience_score  kmeans_cluster\n",
      "0               2.968073          2.553181               1\n",
      "1               1.883758          3.444565               0\n",
      "2               4.913894          3.055363               1\n",
      "3               3.949389          4.183173               0\n",
      "4               3.757785          2.987121               1\n",
      "...                  ...               ...             ...\n",
      "146877          5.189102          3.192933               1\n",
      "146878          3.634666          4.399533               0\n",
      "146879          3.631952          4.369239               0\n",
      "146880          3.550910          4.083725               0\n",
      "146881          3.566010          4.169611               0\n",
      "\n",
      "[146882 rows x 3 columns]\n"
     ]
    }
   ],
   "source": [
    "# Select the relevant features for clustering (engagement and experience scores)\n",
    "features = df[['engagement_score', 'experience_score']]\n",
    "\n",
    "# Standardize the data\n",
    "scaler = StandardScaler()\n",
    "scaled_features = scaler.fit_transform(features)\n",
    "\n",
    "# Perform k-means clustering (k=2)\n",
    "kmeans = KMeans(n_clusters=2, n_init=10, random_state=42)\n",
    "df['kmeans_cluster'] = kmeans.fit_predict(scaled_features)\n",
    "\n",
    "# Display the DataFrame with the assigned k-means clusters\n",
    "print(df[['engagement_score', 'experience_score', 'kmeans_cluster']])"
   ]
  },
  {
   "cell_type": "code",
   "execution_count": 15,
   "metadata": {},
   "outputs": [
    {
     "name": "stdout",
     "output_type": "stream",
     "text": [
      "                satisfaction_score  experience_score\n",
      "kmeans_cluster                                      \n",
      "0                         2.659615          3.733019\n",
      "1                         3.078954          2.375090\n"
     ]
    }
   ],
   "source": [
    "# Aggregate the average satisfaction and experience scores per cluster\n",
    "cluster_scores = df.groupby('kmeans_cluster')[['satisfaction_score', 'experience_score']].mean()\n",
    "\n",
    "# Display the average satisfaction and experience scores per cluster\n",
    "print(cluster_scores)"
   ]
  }
 ],
 "metadata": {
  "kernelspec": {
   "display_name": "venv",
   "language": "python",
   "name": "python3"
  },
  "language_info": {
   "codemirror_mode": {
    "name": "ipython",
    "version": 3
   },
   "file_extension": ".py",
   "mimetype": "text/x-python",
   "name": "python",
   "nbconvert_exporter": "python",
   "pygments_lexer": "ipython3",
   "version": "3.8.10"
  }
 },
 "nbformat": 4,
 "nbformat_minor": 2
}
