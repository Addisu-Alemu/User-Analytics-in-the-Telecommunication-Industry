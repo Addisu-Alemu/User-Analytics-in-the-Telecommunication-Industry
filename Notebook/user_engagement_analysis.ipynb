{
 "cells": [
  {
   "cell_type": "code",
   "execution_count": 10,
   "metadata": {},
   "outputs": [
    {
     "ename": "ModuleNotFoundError",
     "evalue": "No module named 'sklearn'",
     "output_type": "error",
     "traceback": [
      "\u001b[0;31m---------------------------------------------------------------------------\u001b[0m",
      "\u001b[0;31mModuleNotFoundError\u001b[0m                       Traceback (most recent call last)",
      "Cell \u001b[0;32mIn[10], line 1\u001b[0m\n\u001b[0;32m----> 1\u001b[0m \u001b[38;5;28;01mimport\u001b[39;00m \u001b[38;5;21;01msklearn\u001b[39;00m\n\u001b[1;32m      4\u001b[0m \u001b[38;5;28;01mfrom\u001b[39;00m \u001b[38;5;21;01msklearn\u001b[39;00m\u001b[38;5;21;01m.\u001b[39;00m\u001b[38;5;21;01mpreprocessing\u001b[39;00m \u001b[38;5;28;01mimport\u001b[39;00m StandardScaler\n\u001b[1;32m      5\u001b[0m \u001b[38;5;28;01mfrom\u001b[39;00m \u001b[38;5;21;01msklearn\u001b[39;00m\u001b[38;5;21;01m.\u001b[39;00m\u001b[38;5;21;01mcluster\u001b[39;00m \u001b[38;5;28;01mimport\u001b[39;00m KMeans\n",
      "\u001b[0;31mModuleNotFoundError\u001b[0m: No module named 'sklearn'"
     ]
    }
   ],
   "source": [
    "import psycopg2\n",
    "import pandas as pd\n",
    "import matplotlib.pyplot as plt\n",
    "import seaborn as sns\n",
    "import numpy as np\n",
    "\n"
   ]
  },
  {
   "cell_type": "code",
   "execution_count": 2,
   "metadata": {},
   "outputs": [],
   "source": [
    "\n",
    "# Specify the path to the data file\n",
    "file_path = '../data/cleaned_data.csv'\n",
    "\n",
    "# Load the data into a DataFrame\n",
    "df = pd.read_csv(file_path)\n",
    "\n"
   ]
  },
  {
   "cell_type": "markdown",
   "metadata": {},
   "source": [
    "# session frequency for each user"
   ]
  },
  {
   "cell_type": "code",
   "execution_count": 3,
   "metadata": {},
   "outputs": [
    {
     "name": "stdout",
     "output_type": "stream",
     "text": [
      "Session Frequency per User:\n",
      "MSISDN/Number\n",
      "3.373167e+10    22962\n",
      "3.360304e+10      822\n",
      "3.362632e+10       18\n",
      "3.362578e+10       17\n",
      "3.361489e+10       17\n",
      "                ...  \n",
      "3.366099e+10        1\n",
      "3.366215e+10        1\n",
      "3.366649e+10        1\n",
      "3.362206e+10        1\n",
      "3.361962e+10        1\n",
      "Name: count, Length: 88753, dtype: int64\n"
     ]
    }
   ],
   "source": [
    "# Calculate session frequency for each user\n",
    "session_frequency =df['MSISDN/Number'].value_counts()\n",
    "print(\"Session Frequency per User:\")\n",
    "print(session_frequency)\n"
   ]
  },
  {
   "cell_type": "code",
   "execution_count": 6,
   "metadata": {},
   "outputs": [
    {
     "name": "stdout",
     "output_type": "stream",
     "text": [
      "Index(['Bearer Id', 'Start', 'Start ms', 'End', 'End ms', 'Dur. (ms)', 'IMSI',\n",
      "       'MSISDN/Number', 'IMEI', 'Last Location Name', 'Avg RTT DL (ms)',\n",
      "       'Avg RTT UL (ms)', 'Avg Bearer TP DL (kbps)', 'Avg Bearer TP UL (kbps)',\n",
      "       'TCP DL Retrans. Vol (Bytes)', 'TCP UL Retrans. Vol (Bytes)',\n",
      "       'DL TP < 50 Kbps (%)', '50 Kbps < DL TP < 250 Kbps (%)',\n",
      "       '250 Kbps < DL TP < 1 Mbps (%)', 'DL TP > 1 Mbps (%)',\n",
      "       'UL TP < 10 Kbps (%)', '10 Kbps < UL TP < 50 Kbps (%)',\n",
      "       '50 Kbps < UL TP < 300 Kbps (%)', 'UL TP > 300 Kbps (%)',\n",
      "       'Activity Duration DL (ms)', 'Activity Duration UL (ms)', 'Dur. (ms).1',\n",
      "       'Handset Manufacturer', 'Handset Type', 'Nb of sec with Vol DL < 6250B',\n",
      "       'Nb of sec with Vol UL < 1250B', 'Social Media DL (Bytes)',\n",
      "       'Social Media UL (Bytes)', 'Google DL (Bytes)', 'Google UL (Bytes)',\n",
      "       'Email DL (Bytes)', 'Email UL (Bytes)', 'Youtube DL (Bytes)',\n",
      "       'Youtube UL (Bytes)', 'Netflix DL (Bytes)', 'Netflix UL (Bytes)',\n",
      "       'Gaming DL (Bytes)', 'Gaming UL (Bytes)', 'Other DL (Bytes)',\n",
      "       'Other UL (Bytes)', 'Total UL (Bytes)', 'Total DL (Bytes)'],\n",
      "      dtype='object')\n"
     ]
    }
   ],
   "source": [
    "# Display the column names in the DataFrame\n",
    "print(df.columns)\n"
   ]
  },
  {
   "cell_type": "markdown",
   "metadata": {},
   "source": [
    "## average session duration in milliseconds"
   ]
  },
  {
   "cell_type": "code",
   "execution_count": 14,
   "metadata": {},
   "outputs": [
    {
     "name": "stdout",
     "output_type": "stream",
     "text": [
      "Total Session Duration (in ms) for Each User:\n",
      "MSISDN/Number\n",
      "3.360304e+10    7.783054e+07\n",
      "3.360304e+10    9.824500e+04\n",
      "3.360304e+10    8.635000e+04\n",
      "3.360304e+10    1.721500e+05\n",
      "3.360305e+10    3.440900e+04\n",
      "                    ...     \n",
      "3.370000e+10    1.716720e+05\n",
      "3.370000e+10    9.498000e+03\n",
      "3.370000e+10    6.604500e+04\n",
      "3.370000e+10    2.142090e+05\n",
      "3.373167e+10    2.336299e+09\n",
      "Name: Dur. (ms), Length: 88753, dtype: float64\n"
     ]
    }
   ],
   "source": [
    "# Calculate the total session duration in milliseconds for each user\n",
    "total_session_duration_per_user = df.groupby('MSISDN/Number')['Dur. (ms)'].sum()\n",
    "print(\"Total Session Duration (in ms) for Each User:\")\n",
    "print(total_session_duration_per_user)\n"
   ]
  },
  {
   "cell_type": "markdown",
   "metadata": {},
   "source": [
    "# Calculate the total traffic per session\n"
   ]
  },
  {
   "cell_type": "code",
   "execution_count": 9,
   "metadata": {},
   "outputs": [
    {
     "name": "stdout",
     "output_type": "stream",
     "text": [
      "\n",
      "Total Traffic per Session:\n",
      "0         872988322.0\n",
      "1         651527183.0\n",
      "2         568809782.0\n",
      "3         848798988.0\n",
      "4         331143097.0\n",
      "             ...     \n",
      "146877    872761860.0\n",
      "146878    631804110.0\n",
      "146879    705783925.0\n",
      "146880    627698629.0\n",
      "146881    401522016.0\n",
      "Length: 146882, dtype: float64\n"
     ]
    }
   ],
   "source": [
    "total_traffic_per_session = df['Total DL (Bytes)'] + df['Total UL (Bytes)']\n",
    "print(\"\\nTotal Traffic per Session:\")\n",
    "print(total_traffic_per_session)"
   ]
  },
  {
   "cell_type": "markdown",
   "metadata": {},
   "source": [
    "# Calculate the engagement score for each user"
   ]
  },
  {
   "cell_type": "code",
   "execution_count": 18,
   "metadata": {},
   "outputs": [
    {
     "name": "stdout",
     "output_type": "stream",
     "text": [
      "Top 10 Customers by Average of the Three Metrics:\n",
      "MSISDN/Number\n",
      "3.373167e+10    1.887238e+12\n",
      "3.360304e+10    6.867157e+10\n",
      "3.361489e+10    1.475671e+09\n",
      "3.362578e+10    1.417983e+09\n",
      "3.362632e+10    1.329863e+09\n",
      "3.367588e+10    1.316296e+09\n",
      "3.365973e+10    1.285475e+09\n",
      "3.366646e+10    1.218949e+09\n",
      "3.366471e+10    1.146257e+09\n",
      "3.369879e+10    1.091030e+09\n",
      "dtype: float64\n"
     ]
    }
   ],
   "source": [
    "# Calculate the average of the three metrics for each user\n",
    "average_total_traffic_per_user = df.groupby('MSISDN/Number')[['Total DL (Bytes)', 'Total UL (Bytes)']].sum().mean(axis=1)\n",
    "average_total_session_duration_per_user = df.groupby('MSISDN/Number')['Dur. (ms)'].sum().groupby('MSISDN/Number').mean()\n",
    "average_session_frequency_per_user = df['MSISDN/Number'].value_counts().groupby('MSISDN/Number').mean()\n",
    "\n",
    "# Calculate the average of the three metrics for each user\n",
    "average_metrics_per_user = (average_total_traffic_per_user + average_total_session_duration_per_user + average_session_frequency_per_user) / 3\n",
    "\n",
    "# Report the top 10 customers based on the average of the three metrics\n",
    "top_10_average_metrics = average_metrics_per_user.nlargest(10)\n",
    "print(\"Top 10 Customers by Average of the Three Metrics:\")\n",
    "print(top_10_average_metrics)\n",
    "\n",
    "\n",
    "\n"
   ]
  },
  {
   "cell_type": "code",
   "execution_count": 1,
   "metadata": {},
   "outputs": [
    {
     "ename": "NameError",
     "evalue": "name 'total_session_duration_per_user' is not defined",
     "output_type": "error",
     "traceback": [
      "\u001b[0;31m---------------------------------------------------------------------------\u001b[0m",
      "\u001b[0;31mNameError\u001b[0m                                 Traceback (most recent call last)",
      "Cell \u001b[0;32mIn[1], line 9\u001b[0m\n\u001b[1;32m      1\u001b[0m \u001b[38;5;28;01mimport\u001b[39;00m \u001b[38;5;21;01mpandas\u001b[39;00m \u001b[38;5;28;01mas\u001b[39;00m \u001b[38;5;21;01mpd\u001b[39;00m\n\u001b[1;32m      5\u001b[0m \u001b[38;5;66;03m# total_traffic_per_session, total_session_duration_per_user, and session_frequency\u001b[39;00m\n\u001b[1;32m      6\u001b[0m \n\u001b[1;32m      7\u001b[0m \u001b[38;5;66;03m# Create the engagement_metrics DataFrame\u001b[39;00m\n\u001b[1;32m      8\u001b[0m engagement_metrics \u001b[38;5;241m=\u001b[39m pd\u001b[38;5;241m.\u001b[39mDataFrame({\n\u001b[0;32m----> 9\u001b[0m     \u001b[38;5;124m'\u001b[39m\u001b[38;5;124mMSISDN/Number\u001b[39m\u001b[38;5;124m'\u001b[39m: \u001b[43mtotal_session_duration_per_user\u001b[49m\u001b[38;5;241m.\u001b[39mindex,\n\u001b[1;32m     10\u001b[0m     \u001b[38;5;124m'\u001b[39m\u001b[38;5;124mTotal_Traffic_Per_Session\u001b[39m\u001b[38;5;124m'\u001b[39m: total_traffic_per_session,\n\u001b[1;32m     11\u001b[0m     \u001b[38;5;124m'\u001b[39m\u001b[38;5;124mTotal_Session_Duration_ms\u001b[39m\u001b[38;5;124m'\u001b[39m: total_session_duration_per_user\u001b[38;5;241m.\u001b[39mvalues,\n\u001b[1;32m     12\u001b[0m     \u001b[38;5;124m'\u001b[39m\u001b[38;5;124mSession_Frequency\u001b[39m\u001b[38;5;124m'\u001b[39m: session_frequency\n\u001b[1;32m     13\u001b[0m })\n\u001b[1;32m     15\u001b[0m \u001b[38;5;66;03m# Normalize the engagement metrics\u001b[39;00m\n\u001b[1;32m     16\u001b[0m scaler \u001b[38;5;241m=\u001b[39m StandardScaler()\n",
      "\u001b[0;31mNameError\u001b[0m: name 'total_session_duration_per_user' is not defined"
     ]
    }
   ],
   "source": [
    "import pandas as pd\n",
    "\n",
    "\n",
    "\n",
    "# total_traffic_per_session, total_session_duration_per_user, and session_frequency\n",
    "\n",
    "# Create the engagement_metrics DataFrame\n",
    "engagement_metrics = pd.DataFrame({\n",
    "    'MSISDN/Number': total_session_duration_per_user.index,\n",
    "    'Total_Traffic_Per_Session': total_traffic_per_session,\n",
    "    'Total_Session_Duration_ms': total_session_duration_per_user.values,\n",
    "    'Session_Frequency': session_frequency\n",
    "})\n",
    "\n",
    "# Normalize the engagement metrics\n",
    "scaler = StandardScaler()\n",
    "normalized_engagement_metrics = scaler.fit_transform(engagement_metrics.iloc[:, 1:])  # Exclude MSISDN/Number from normalization\n",
    "\n",
    "# Run k-means clustering (k=3)\n",
    "kmeans = KMeans(n_clusters=3, random_state=42)\n",
    "clusters = kmeans.fit_predict(normalized_engagement_metrics)\n",
    "\n",
    "# Add the cluster labels to the original DataFrame\n",
    "engagement_metrics['Cluster'] = clusters\n",
    "\n",
    "# Display the clusters\n",
    "print(engagement_metrics['Cluster'].value_counts())\n",
    "\n",
    "print(engagement_metrics['Cluster'].value_counts())\n"
   ]
  },
  {
   "cell_type": "code",
   "execution_count": 11,
   "metadata": {},
   "outputs": [
    {
     "ename": "ModuleNotFoundError",
     "evalue": "No module named 'sklearn'",
     "output_type": "error",
     "traceback": [
      "\u001b[0;31m---------------------------------------------------------------------------\u001b[0m",
      "\u001b[0;31mModuleNotFoundError\u001b[0m                       Traceback (most recent call last)",
      "Cell \u001b[0;32mIn[11], line 1\u001b[0m\n\u001b[0;32m----> 1\u001b[0m \u001b[38;5;28;01mimport\u001b[39;00m \u001b[38;5;21;01msklearn\u001b[39;00m\n\u001b[1;32m      4\u001b[0m \u001b[38;5;28;01mfrom\u001b[39;00m \u001b[38;5;21;01msklearn\u001b[39;00m\u001b[38;5;21;01m.\u001b[39;00m\u001b[38;5;21;01mpreprocessing\u001b[39;00m \u001b[38;5;28;01mimport\u001b[39;00m StandardScaler\n\u001b[1;32m      5\u001b[0m \u001b[38;5;28;01mfrom\u001b[39;00m \u001b[38;5;21;01msklearn\u001b[39;00m\u001b[38;5;21;01m.\u001b[39;00m\u001b[38;5;21;01mcluster\u001b[39;00m \u001b[38;5;28;01mimport\u001b[39;00m KMeans\n",
      "\u001b[0;31mModuleNotFoundError\u001b[0m: No module named 'sklearn'"
     ]
    }
   ],
   "source": [
    "import sklearn\n",
    "\n",
    "\n",
    "from sklearn.preprocessing import StandardScaler\n",
    "from sklearn.cluster import KMeans"
   ]
  }
 ],
 "metadata": {
  "kernelspec": {
   "display_name": "venv",
   "language": "python",
   "name": "python3"
  },
  "language_info": {
   "codemirror_mode": {
    "name": "ipython",
    "version": 3
   },
   "file_extension": ".py",
   "mimetype": "text/x-python",
   "name": "python",
   "nbconvert_exporter": "python",
   "pygments_lexer": "ipython3",
   "version": "3.8.10"
  }
 },
 "nbformat": 4,
 "nbformat_minor": 2
}
